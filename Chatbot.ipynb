{
  "nbformat": 4,
  "nbformat_minor": 0,
  "metadata": {
    "colab": {
      "provenance": []
    },
    "kernelspec": {
      "name": "python3",
      "display_name": "Python 3"
    },
    "language_info": {
      "name": "python"
    }
  },
  "cells": [
    {
      "cell_type": "code",
      "execution_count": 1,
      "metadata": {
        "id": "JMIM7LgA6fH9"
      },
      "outputs": [],
      "source": [
        "import json\n",
        "import numpy as np\n",
        "import random\n",
        "from sklearn.feature_extraction.text import TfidfVectorizer\n",
        "from sklearn.metrics.pairwise import cosine_similarity\n",
        "from sklearn.metrics.pairwise import cosine_similarity\n",
        "import nltk\n",
        "from nltk.chat.util import Chat, reflections\n",
        "\n",
        "from sklearn.model_selection import train_test_split\n",
        "from sklearn.metrics import accuracy_score"
      ]
    },
    {
      "cell_type": "code",
      "source": [
        "# Download necessary NLTK data\n",
        "nltk.download('punkt')\n",
        "nltk.download('wordnet')\n"
      ],
      "metadata": {
        "colab": {
          "base_uri": "https://localhost:8080/"
        },
        "id": "QdMrRmIvTrhG",
        "outputId": "d54edfa3-7f91-4b8e-942e-538d96ac8c21"
      },
      "execution_count": 2,
      "outputs": [
        {
          "output_type": "stream",
          "name": "stderr",
          "text": [
            "[nltk_data] Downloading package punkt to /root/nltk_data...\n",
            "[nltk_data]   Unzipping tokenizers/punkt.zip.\n",
            "[nltk_data] Downloading package wordnet to /root/nltk_data...\n"
          ]
        },
        {
          "output_type": "execute_result",
          "data": {
            "text/plain": [
              "True"
            ]
          },
          "metadata": {},
          "execution_count": 2
        }
      ]
    },
    {
      "cell_type": "code",
      "source": [
        "# Load intents from JSON file\n",
        "with open('/content/SRU_DATASET.json', 'r') as file:\n",
        "    intents = json.load(file)"
      ],
      "metadata": {
        "id": "2gH-YzVnTrcw"
      },
      "execution_count": 4,
      "outputs": []
    },
    {
      "cell_type": "code",
      "source": [
        "# Tokenization and lemmatization\n",
        "lemmatizer = nltk.stem.WordNetLemmatizer()\n",
        "def tokenize_and_lemmatize(text):\n",
        "    return [lemmatizer.lemmatize(word.lower()) for word in nltk.word_tokenize(text)]"
      ],
      "metadata": {
        "id": "7nwe69CnTra4"
      },
      "execution_count": 5,
      "outputs": []
    },
    {
      "cell_type": "code",
      "source": [
        "# Preprocess data\n",
        "training_sentences = []\n",
        "training_labels = []\n",
        "response_tags = []\n",
        "for intent in intents['intents']:\n",
        "    for pattern in intent['patterns']:\n",
        "        training_sentences.append(pattern)\n",
        "        training_labels.append(intent['tag'])\n",
        "    response_tags.append(intent['tag'])"
      ],
      "metadata": {
        "id": "CTcDPI-mTrZX"
      },
      "execution_count": 6,
      "outputs": []
    },
    {
      "cell_type": "code",
      "source": [
        "# TF-IDF vectorization\n",
        "vectorizer = TfidfVectorizer(tokenizer=tokenize_and_lemmatize, stop_words='english')\n",
        "X_train = vectorizer.fit_transform(training_sentences)"
      ],
      "metadata": {
        "colab": {
          "base_uri": "https://localhost:8080/"
        },
        "id": "rTTIxSjETrXy",
        "outputId": "99a05f50-b47b-4224-b47d-0390c5bbfcb8"
      },
      "execution_count": 7,
      "outputs": [
        {
          "output_type": "stream",
          "name": "stderr",
          "text": [
            "/usr/local/lib/python3.10/dist-packages/sklearn/feature_extraction/text.py:528: UserWarning: The parameter 'token_pattern' will not be used since 'tokenizer' is not None'\n",
            "  warnings.warn(\n",
            "/usr/local/lib/python3.10/dist-packages/sklearn/feature_extraction/text.py:409: UserWarning: Your stop_words may be inconsistent with your preprocessing. Tokenizing the stop words generated tokens ['ha', 'le', 'u', 'wa'] not in stop_words.\n",
            "  warnings.warn(\n"
          ]
        }
      ]
    },
    {
      "cell_type": "code",
      "source": [
        "# Consider exploring alternative ML models for intent classification\n",
        "# For example, from sklearn: SVC (Support Vector Classification)\n",
        "# Or consider libraries like spaCy for advanced NLP tasks\n",
        "from sklearn.linear_model import LogisticRegression\n",
        "classifier = LogisticRegression(max_iter=1000)\n",
        "classifier.fit(X_train, training_labels)\n",
        "# Conversation state management (optional)\n",
        "context = {}  # Dictionary to store conversation history"
      ],
      "metadata": {
        "id": "sgoq8vh5TrWZ"
      },
      "execution_count": 8,
      "outputs": []
    },
    {
      "cell_type": "code",
      "source": [
        "# Split data into training and testing sets\n",
        "X_train, X_test, y_train, y_test = train_test_split(X_train, training_labels, test_size=0.2, random_state=42)\n",
        "\n",
        "# Train the classifier on the training set\n",
        "classifier.fit(X_train, y_train)\n",
        "\n",
        "# Predict intents for the testing set\n",
        "y_pred = classifier.predict(X_test)\n",
        "\n",
        "# Calculate accuracy\n",
        "accuracy = accuracy_score(y_test, y_pred)\n",
        "print(\"Accuracy:\", accuracy)\n"
      ],
      "metadata": {
        "colab": {
          "base_uri": "https://localhost:8080/"
        },
        "id": "Oh6lPPkITrVB",
        "outputId": "1c825733-0451-49bc-a6ad-499d8bdc58a3"
      },
      "execution_count": 9,
      "outputs": [
        {
          "output_type": "stream",
          "name": "stdout",
          "text": [
            "Accuracy: 0.7746478873239436\n"
          ]
        }
      ]
    },
    {
      "cell_type": "code",
      "source": [
        "# Conversation state management (optional)\n",
        "context = {}  # Dictionary to store conversation history\n",
        "\n",
        "def get_response(tag, intents_json, context=None):\n",
        "    list_of_intents = intents_json['intents']\n",
        "    for i in list_of_intents:\n",
        "        if i['tag'] == tag:\n",
        "            if context and 'context_set' in i:\n",
        "                # Check for context-specific responses\n",
        "                if context.get(i['context_set'], False):\n",
        "                    return random.choice(i['responses']['context_aware'])\n",
        "            return random.choice(i['responses'])\n"
      ],
      "metadata": {
        "id": "MPU53tKqTrS7"
      },
      "execution_count": 10,
      "outputs": []
    },
    {
      "cell_type": "code",
      "source": [
        "def chatbot_response(text):\n",
        "    global context  # Access and update conversational context\n",
        "\n",
        "    text_vectorized = vectorizer.transform([text])\n",
        "    predicted_intent = classifier.predict(text_vectorized)[0]\n",
        "\n",
        "    # Update context based on the predicted intent (optional)\n",
        "    if predicted_intent in [intent['tag'] for intent in intents['intents'] if 'context_set' in intent]:\n",
        "        context[predicted_intent] = True  # Flag for context-aware responses\n",
        "\n",
        "    response = get_response(predicted_intent, intents, context)  # Pass context if applicable\n",
        "    return response\n",
        "\n",
        "# Chatbot initialization with reflection (optional)\n",
        "pairs = [\n",
        "    ('(.*)', 'Do you want to talk about %1?'),\n",
        "]\n",
        "chatbot = Chat(pairs,reflections)\n",
        "\n",
        "print(\"Bot: Hello! I am the ChatBot. How can I assist you today? (type 'exit' to end the conversation)\")\n",
        "\n",
        "while True:\n",
        "    user_input = input(\"You: \")\n",
        "    if user_input.lower() == 'exit':\n",
        "        print(\"Botu: Goodbye! Have a great day.\")\n",
        "        break\n",
        "\n",
        "    # Utilize the Chat library if integrated (optional)\n",
        "    # response = chatbot.respond(user_input)\n",
        "    # print(\"Bot:\", response)\n",
        "\n",
        "    response = chatbot_response(user_input)\n",
        "    print(\"Botu:\", response)"
      ],
      "metadata": {
        "colab": {
          "base_uri": "https://localhost:8080/"
        },
        "id": "EUG-uLWgTrQn",
        "outputId": "771c3baa-77e2-4689-8e26-5a7852080c9a"
      },
      "execution_count": 11,
      "outputs": [
        {
          "output_type": "stream",
          "name": "stdout",
          "text": [
            "Bot: Hello! I am the ChatBot. How can I assist you today? (type 'exit' to end the conversation)\n",
            "You: How are you?\n",
            "Botu: Hi there, how can I help?\n",
            "You: what is the name of the developers\n",
            "Botu: Rohith & Shiva & Kirthan\n",
            "You: what is the name of the developers\n",
            "Botu: Rohith & Shiva & Kirthan\n",
            "You: nirf ranking\n",
            "Botu: NIRF ranking of our university : 98(according to 2024)\n",
            "You: what should I call you\n",
            "Botu: Sad to see you go :(\n",
            "You: college timing\n",
            "Botu: College is open 9am-5pm Monday-Friday!\n",
            "You: how to contact college\n",
            "Botu: You can contact at: +91 8371004040\n",
            "You: list of courses offered\n",
            "Botu: Our university offers IT, CSE,ECE ,EEE, Civil, MBA, BBA and PHD Scholars with specilizations.\n",
            "You: fee per semester\n",
            "Botu: For Fee detail visit this link https://sru.edu.in/fee-and-scholarship-2024\n",
            "You: how to reach college\n",
            "Botu: The college is located at https://www.google.com/maps/dir/18.0786172,79.4591372/sr+university+google+maps/@18.0852243,79.4565307,15z/data=!3m1!4b1!4m9!4m8!1m1!4e1!1m5!1m1!1s0x3a334bd4e1161b4f:0x7f4dea9a0d18958b!2m2!1d79.4686856!2d18.0889257?entry=ttu\n",
            "You: what is the hostel fee\n",
            "Botu: For hostel detail visit https://sru.edu.in/Campuslife\n",
            "You: Events?\n",
            "Botu: For event detail visit https://sru.edu.in/events\n",
            "You: what documents do i need\n",
            "Botu: To know more about document required visit https://www.careers360.com/university/sr-university-warangal/admission\n",
            "You: Block in college\n",
            "Botu: My College has total 5 floors Excluding Hostels, with Campus of 150 acres \n",
            "You: library facilities\n",
            "Botu: There is one huge and spacious library.We can access it 24/7.\n",
            "You: college infrastructure\n",
            "Botu: College is open 9am-5pm Monday-Friday!\n",
            "You: infrastructure\n",
            "Botu: Goodbye!\n",
            "You: canteen facilities\n",
            "Botu: Our university has canteen with variety of food available Including Juice Corner.\n",
            "You: What is average package\n",
            "Botu: To know about placement visit https://www.shiksha.com/university/sr-university-warangal-145615/placement\n",
            "You: Where is principal's offic\n",
            "Botu: Prof.Deepak Garg is college Vice principal and if you need any help then call your branch hod first.That is more appropriate\n",
            "You: dmission process\n",
            "Botu: Application can also be submitted online through the Unversity's https://www.shiksha.com/university/sr-university-warangal-145615/admission\n",
            "You: scholarship\n",
            "Botu: Many government scholarships are supported by our university. For details and updates visit https://www.shiksha.com/university/sr-university-warangal-145615/scholarships \n",
            "You: hat is college intake\n",
            "Botu: College is open 9am-5pm Monday-Friday!\n",
            "You: about vacations\n",
            "Botu: Academic calender is given to you by your class-soordinators after you join your respective classes\n",
            "You: thanks for the help\n",
            "Botu: welcome, anything else i can assist you with?\n",
            "You: Is collage Good\n",
            "Botu: Our University is one of the Top Universities in Telangana. For more details visit https://www.shiksha.com/university/sr-university-warangal-145615/reviews \n",
            "You: is there any ragging cases\n",
            "Botu: We are Proud to tell you that our college provides ragging free environment, and we have strict rules against ragging\n",
            "You: Goodbye\n",
            "Botu: Sad to see you go :(\n",
            "You: exit\n",
            "Botu: Goodbye! Have a great day.\n"
          ]
        }
      ]
    }
  ]
}